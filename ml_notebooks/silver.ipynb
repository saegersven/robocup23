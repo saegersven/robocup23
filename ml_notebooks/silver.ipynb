{
  "nbformat": 4,
  "nbformat_minor": 0,
  "metadata": {
    "colab": {
      "provenance": [],
      "collapsed_sections": [
        "8UVsgkwydhzv"
      ],
      "authorship_tag": "ABX9TyOb/Z9hXllK8J2oIf5T1xJi"
    },
    "kernelspec": {
      "name": "python3",
      "display_name": "Python 3"
    },
    "language_info": {
      "name": "python"
    },
    "gpuClass": "standard",
    "accelerator": "GPU"
  },
  "cells": [
    {
      "cell_type": "markdown",
      "source": [
        "# Initialisation"
      ],
      "metadata": {
        "id": "yW5YCq6FcBEe"
      }
    },
    {
      "cell_type": "code",
      "execution_count": 5,
      "metadata": {
        "colab": {
          "base_uri": "https://localhost:8080/",
          "height": 336
        },
        "id": "YbLwdvZJWjFR",
        "outputId": "434b1a06-45e6-4908-e1fb-1108e2a91832"
      },
      "outputs": [
        {
          "output_type": "error",
          "ename": "MessageError",
          "evalue": "ignored",
          "traceback": [
            "\u001b[0;31m---------------------------------------------------------------------------\u001b[0m",
            "\u001b[0;31mMessageError\u001b[0m                              Traceback (most recent call last)",
            "\u001b[0;32m<ipython-input-5-d5df0069828e>\u001b[0m in \u001b[0;36m<module>\u001b[0;34m\u001b[0m\n\u001b[1;32m      1\u001b[0m \u001b[0;32mfrom\u001b[0m \u001b[0mgoogle\u001b[0m\u001b[0;34m.\u001b[0m\u001b[0mcolab\u001b[0m \u001b[0;32mimport\u001b[0m \u001b[0mdrive\u001b[0m\u001b[0;34m\u001b[0m\u001b[0;34m\u001b[0m\u001b[0m\n\u001b[0;32m----> 2\u001b[0;31m \u001b[0mdrive\u001b[0m\u001b[0;34m.\u001b[0m\u001b[0mmount\u001b[0m\u001b[0;34m(\u001b[0m\u001b[0;34m'/content/drive'\u001b[0m\u001b[0;34m)\u001b[0m\u001b[0;34m\u001b[0m\u001b[0;34m\u001b[0m\u001b[0m\n\u001b[0m",
            "\u001b[0;32m/usr/local/lib/python3.8/dist-packages/google/colab/drive.py\u001b[0m in \u001b[0;36mmount\u001b[0;34m(mountpoint, force_remount, timeout_ms, readonly)\u001b[0m\n\u001b[1;32m     99\u001b[0m \u001b[0;32mdef\u001b[0m \u001b[0mmount\u001b[0m\u001b[0;34m(\u001b[0m\u001b[0mmountpoint\u001b[0m\u001b[0;34m,\u001b[0m \u001b[0mforce_remount\u001b[0m\u001b[0;34m=\u001b[0m\u001b[0;32mFalse\u001b[0m\u001b[0;34m,\u001b[0m \u001b[0mtimeout_ms\u001b[0m\u001b[0;34m=\u001b[0m\u001b[0;36m120000\u001b[0m\u001b[0;34m,\u001b[0m \u001b[0mreadonly\u001b[0m\u001b[0;34m=\u001b[0m\u001b[0;32mFalse\u001b[0m\u001b[0;34m)\u001b[0m\u001b[0;34m:\u001b[0m\u001b[0;34m\u001b[0m\u001b[0;34m\u001b[0m\u001b[0m\n\u001b[1;32m    100\u001b[0m   \u001b[0;34m\"\"\"Mount your Google Drive at the specified mountpoint path.\"\"\"\u001b[0m\u001b[0;34m\u001b[0m\u001b[0;34m\u001b[0m\u001b[0m\n\u001b[0;32m--> 101\u001b[0;31m   return _mount(\n\u001b[0m\u001b[1;32m    102\u001b[0m       \u001b[0mmountpoint\u001b[0m\u001b[0;34m,\u001b[0m\u001b[0;34m\u001b[0m\u001b[0;34m\u001b[0m\u001b[0m\n\u001b[1;32m    103\u001b[0m       \u001b[0mforce_remount\u001b[0m\u001b[0;34m=\u001b[0m\u001b[0mforce_remount\u001b[0m\u001b[0;34m,\u001b[0m\u001b[0;34m\u001b[0m\u001b[0;34m\u001b[0m\u001b[0m\n",
            "\u001b[0;32m/usr/local/lib/python3.8/dist-packages/google/colab/drive.py\u001b[0m in \u001b[0;36m_mount\u001b[0;34m(mountpoint, force_remount, timeout_ms, ephemeral, readonly)\u001b[0m\n\u001b[1;32m    122\u001b[0m       'TBE_EPHEM_CREDS_ADDR'] if ephemeral else _os.environ['TBE_CREDS_ADDR']\n\u001b[1;32m    123\u001b[0m   \u001b[0;32mif\u001b[0m \u001b[0mephemeral\u001b[0m\u001b[0;34m:\u001b[0m\u001b[0;34m\u001b[0m\u001b[0;34m\u001b[0m\u001b[0m\n\u001b[0;32m--> 124\u001b[0;31m     _message.blocking_request(\n\u001b[0m\u001b[1;32m    125\u001b[0m         'request_auth', request={'authType': 'dfs_ephemeral'}, timeout_sec=None)\n\u001b[1;32m    126\u001b[0m \u001b[0;34m\u001b[0m\u001b[0m\n",
            "\u001b[0;32m/usr/local/lib/python3.8/dist-packages/google/colab/_message.py\u001b[0m in \u001b[0;36mblocking_request\u001b[0;34m(request_type, request, timeout_sec, parent)\u001b[0m\n\u001b[1;32m    169\u001b[0m   request_id = send_request(\n\u001b[1;32m    170\u001b[0m       request_type, request, parent=parent, expect_reply=True)\n\u001b[0;32m--> 171\u001b[0;31m   \u001b[0;32mreturn\u001b[0m \u001b[0mread_reply_from_input\u001b[0m\u001b[0;34m(\u001b[0m\u001b[0mrequest_id\u001b[0m\u001b[0;34m,\u001b[0m \u001b[0mtimeout_sec\u001b[0m\u001b[0;34m)\u001b[0m\u001b[0;34m\u001b[0m\u001b[0;34m\u001b[0m\u001b[0m\n\u001b[0m",
            "\u001b[0;32m/usr/local/lib/python3.8/dist-packages/google/colab/_message.py\u001b[0m in \u001b[0;36mread_reply_from_input\u001b[0;34m(message_id, timeout_sec)\u001b[0m\n\u001b[1;32m    100\u001b[0m         reply.get('colab_msg_id') == message_id):\n\u001b[1;32m    101\u001b[0m       \u001b[0;32mif\u001b[0m \u001b[0;34m'error'\u001b[0m \u001b[0;32min\u001b[0m \u001b[0mreply\u001b[0m\u001b[0;34m:\u001b[0m\u001b[0;34m\u001b[0m\u001b[0;34m\u001b[0m\u001b[0m\n\u001b[0;32m--> 102\u001b[0;31m         \u001b[0;32mraise\u001b[0m \u001b[0mMessageError\u001b[0m\u001b[0;34m(\u001b[0m\u001b[0mreply\u001b[0m\u001b[0;34m[\u001b[0m\u001b[0;34m'error'\u001b[0m\u001b[0;34m]\u001b[0m\u001b[0;34m)\u001b[0m\u001b[0;34m\u001b[0m\u001b[0;34m\u001b[0m\u001b[0m\n\u001b[0m\u001b[1;32m    103\u001b[0m       \u001b[0;32mreturn\u001b[0m \u001b[0mreply\u001b[0m\u001b[0;34m.\u001b[0m\u001b[0mget\u001b[0m\u001b[0;34m(\u001b[0m\u001b[0;34m'data'\u001b[0m\u001b[0;34m,\u001b[0m \u001b[0;32mNone\u001b[0m\u001b[0;34m)\u001b[0m\u001b[0;34m\u001b[0m\u001b[0;34m\u001b[0m\u001b[0m\n\u001b[1;32m    104\u001b[0m \u001b[0;34m\u001b[0m\u001b[0m\n",
            "\u001b[0;31mMessageError\u001b[0m: Error: credential propagation was unsuccessful"
          ]
        }
      ],
      "source": [
        "from google.colab import drive\n",
        "drive.mount('/content/drive')"
      ]
    },
    {
      "cell_type": "code",
      "source": [
        "import cv2\n",
        "import os\n",
        "import sys\n",
        "import numpy as np\n",
        "import math\n",
        "import tensorflow as tf\n",
        "from tensorflow import keras\n",
        "from tensorflow.keras import layers\n",
        "from tensorflow.keras.models import Sequential\n",
        "from google.colab.patches import cv2_imshow\n",
        "\n",
        "SILVER_PATH_ARCHIVES = '/content/drive/MyDrive/data/silver/silver'\n",
        "SILVER_PATH = '/content/data/silver/silver'\n",
        "NO_SILVER_PATH_ARCHIVES = '/content/drive/MyDrive/data/silver/no_silver'\n",
        "NO_SILVER_PATH = '/content/data/silver/no_silver'\n",
        "\n",
        "\"\"\"\n",
        "UPSAMPLED_IMAGES_PATH_ARCHIVES = '/content/drive/MyDrive/data/victims/images_upsampled'\n",
        "UPSAMPLED_IMAGES_PATH = '/content/data/victims/images_upsampled'\n",
        "UPSAMPLED_TARGETS_PATH_ARCHIVES = '/content/drive/MyDrive/data/victims/targets_upsampled'\n",
        "UPSAMPLED_TARGETS_PATH = '/content/data/victims/targets_upsampled'\n",
        "\"\"\"\n",
        "\n",
        "MODEL_OUTPUT_PATH = '/content/drive/MyDrive/silver.tflite'\n",
        "\n",
        "TEST_IMAGES_PATH = '/content/drive/MyDrive/data/silver/test'\n",
        "\n",
        "os.makedirs(SILVER_PATH, exist_ok=True)\n",
        "os.makedirs(NO_SILVER_PATH, exist_ok=True)\n",
        "\"\"\"\n",
        "os.makedirs(TARGET_OUTPUT_PATH, exist_ok=True)\n",
        "os.makedirs(UPSAMPLED_IMAGES_PATH, exist_ok=True)\n",
        "os.makedirs(UPSAMPLED_TARGETS_PATH, exist_ok=True)\n",
        "\"\"\"\n",
        "\n",
        "def remove_quotation_marks(x):\n",
        "  return x.replace('\"', '').strip()\n",
        "\n",
        "input_height = 48\n",
        "input_width = 80"
      ],
      "metadata": {
        "id": "Cg-6-KC9bpS6"
      },
      "execution_count": 1,
      "outputs": []
    },
    {
      "cell_type": "markdown",
      "source": [
        "# Unpack data to local runtime\n"
      ],
      "metadata": {
        "id": "tIei2yp8yVac"
      }
    },
    {
      "cell_type": "code",
      "source": [
        "import shutil\n",
        "\n",
        "for archive in os.listdir(SILVER_PATH_ARCHIVES):\n",
        "  print(f\"Unpacking {archive}...\")\n",
        "  shutil.unpack_archive(SILVER_PATH_ARCHIVES + \"/\" + archive, extract_dir=SILVER_PATH)\n",
        "\n",
        "for archive in os.listdir(NO_SILVER_PATH_ARCHIVES):\n",
        "  print(f\"Unpacking {archive}...\")\n",
        "  shutil.unpack_archive(NO_SILVER_PATH_ARCHIVES + \"/\" + archive, extract_dir=NO_SILVER_PATH)"
      ],
      "metadata": {
        "colab": {
          "base_uri": "https://localhost:8080/",
          "height": 241
        },
        "id": "7H8EljfsycGu",
        "outputId": "2f47e994-5d18-4768-e6a2-6f48e8d992fb"
      },
      "execution_count": 3,
      "outputs": [
        {
          "output_type": "error",
          "ename": "FileNotFoundError",
          "evalue": "ignored",
          "traceback": [
            "\u001b[0;31m---------------------------------------------------------------------------\u001b[0m",
            "\u001b[0;31mFileNotFoundError\u001b[0m                         Traceback (most recent call last)",
            "\u001b[0;32m<ipython-input-3-e2410fb9f5bf>\u001b[0m in \u001b[0;36m<module>\u001b[0;34m\u001b[0m\n\u001b[1;32m      1\u001b[0m \u001b[0;32mimport\u001b[0m \u001b[0mshutil\u001b[0m\u001b[0;34m\u001b[0m\u001b[0;34m\u001b[0m\u001b[0m\n\u001b[1;32m      2\u001b[0m \u001b[0;34m\u001b[0m\u001b[0m\n\u001b[0;32m----> 3\u001b[0;31m \u001b[0;32mfor\u001b[0m \u001b[0marchive\u001b[0m \u001b[0;32min\u001b[0m \u001b[0mos\u001b[0m\u001b[0;34m.\u001b[0m\u001b[0mlistdir\u001b[0m\u001b[0;34m(\u001b[0m\u001b[0mSILVER_PATH_ARCHIVES\u001b[0m\u001b[0;34m)\u001b[0m\u001b[0;34m:\u001b[0m\u001b[0;34m\u001b[0m\u001b[0;34m\u001b[0m\u001b[0m\n\u001b[0m\u001b[1;32m      4\u001b[0m   \u001b[0mprint\u001b[0m\u001b[0;34m(\u001b[0m\u001b[0;34mf\"Unpacking {archive}...\"\u001b[0m\u001b[0;34m)\u001b[0m\u001b[0;34m\u001b[0m\u001b[0;34m\u001b[0m\u001b[0m\n\u001b[1;32m      5\u001b[0m   \u001b[0mshutil\u001b[0m\u001b[0;34m.\u001b[0m\u001b[0munpack_archive\u001b[0m\u001b[0;34m(\u001b[0m\u001b[0mSILVER_PATH_ARCHIVES\u001b[0m \u001b[0;34m+\u001b[0m \u001b[0;34m\"/\"\u001b[0m \u001b[0;34m+\u001b[0m \u001b[0marchive\u001b[0m\u001b[0;34m,\u001b[0m \u001b[0mextract_dir\u001b[0m\u001b[0;34m=\u001b[0m\u001b[0mSILVER_PATH\u001b[0m\u001b[0;34m)\u001b[0m\u001b[0;34m\u001b[0m\u001b[0;34m\u001b[0m\u001b[0m\n",
            "\u001b[0;31mFileNotFoundError\u001b[0m: [Errno 2] No such file or directory: '/content/drive/MyDrive/data/silver/silver'"
          ]
        }
      ]
    },
    {
      "cell_type": "markdown",
      "source": [
        "# Upsample data"
      ],
      "metadata": {
        "id": "8UVsgkwydhzv"
      }
    },
    {
      "cell_type": "code",
      "source": [
        "l = os.listdir(TARGET_OUTPUT_PATH)\n",
        "c = 0\n",
        "\n",
        "for filename in l:\n",
        "  image_path = VICTIMS_PATH + \"/\" + filename\n",
        "  has_victims = os.path.isfile(image_path)\n",
        "\n",
        "  if not has_victims:\n",
        "    if not os.path.isfile(NO_VICTIMS_PATH + \"/\" + filename):\n",
        "      print(f\"Target {filename} has no image.\")\n",
        "      continue\n",
        "    image_path = NO_VICTIMS_PATH + \"/\" + filename\n",
        "\n",
        "  target_image = cv2.imread(TARGET_OUTPUT_PATH + \"/\" + filename, cv2.IMREAD_COLOR)\n",
        "  cv2.imwrite(UPSAMPLED_TARGETS_PATH + \"/\" + filename, target_image)\n",
        "\n",
        "  filename_f = filename[0:-4] + \"_f.png\"\n",
        "  # Flip target\n",
        "  target_flipped = np.flip(target_image, axis=1)\n",
        "  cv2.imwrite(UPSAMPLED_TARGETS_PATH + \"/\" + filename_f, target_flipped)\n",
        "\n",
        "  image = cv2.imread(image_path, cv2.IMREAD_GRAYSCALE)\n",
        "  cv2.imwrite(UPSAMPLED_IMAGES_PATH + \"/\" + filename, image)\n",
        "\n",
        "  # Flip image\n",
        "  image_flipped = np.flip(image, axis=1)\n",
        "  cv2.imwrite(UPSAMPLED_IMAGES_PATH + \"/\" + filename_f, image_flipped)\n",
        "\n",
        "  c += 1\n",
        "  sys.stdout.write(f\"Upsampled {c} / {len(l)} images.\\r\")\n",
        "  sys.stdout.flush()"
      ],
      "metadata": {
        "colab": {
          "base_uri": "https://localhost:8080/"
        },
        "id": "JtePGL2rfABd",
        "outputId": "6ecceb63-575e-4fc4-a876-a1b69b6432e2"
      },
      "execution_count": null,
      "outputs": [
        {
          "output_type": "stream",
          "name": "stdout",
          "text": []
        }
      ]
    },
    {
      "cell_type": "markdown",
      "source": [
        "# Train and export"
      ],
      "metadata": {
        "id": "sr110nE3dlTQ"
      }
    },
    {
      "cell_type": "code",
      "source": [
        "# Load images\n",
        "images = []\n",
        "targets = []\n",
        "\n",
        "for filename in os.listdir(SILVER_PATH):\n",
        "  images.append(cv2.imread(SILVER_PATH + \"/\" + filename, cv2.IMREAD_GRAYSCALE))\n",
        "  targets.append(np.array([1.0, 0.0]))\n",
        "\n",
        "for filename in os.listdir(NO_SILVER_PATH):\n",
        "  images.append(cv2.imread(NO_SILVER_PATH + \"/\" + filename, cv2.IMREAD_GRAYSCALE))\n",
        "  targets.append(np.array([0.0, 1.0]))\n",
        "\n",
        "# We need to shuffle both arrays in unison\n",
        "def unison_shuffled_copies(a, b):\n",
        "    assert len(a) == len(b)\n",
        "    p = np.random.permutation(len(a))\n",
        "    return (a[p], b[p])\n",
        "\n",
        "images = np.array(images)\n",
        "targets = np.array(targets)\n",
        "\n",
        "images, targets = unison_shuffled_copies(images, targets)\n",
        "\n",
        "batch_size = 16\n",
        "\n",
        "# WORKING MODEL\n",
        "\"\"\"\n",
        "model = Sequential([\n",
        "  layers.Rescaling(1./255, input_shape=(input_height, input_width, 1)),\n",
        "  layers.Conv2D(8, 5, padding='same', activation='relu'),\n",
        "  layers.MaxPooling2D(2),\n",
        "  layers.Conv2D(16, 3, padding='same', activation='relu'),\n",
        "  layers.MaxPooling2D(4),\n",
        "  layers.Conv2D(16, 3, padding='same', activation='relu'),\n",
        "  #layers.MaxPooling2D(2),\n",
        "  layers.Dropout(0.3),\n",
        "  layers.Flatten(),\n",
        "  #layers.Dense(1024, activation='linear'),\n",
        "  layers.Dense(Ys * Xs * Cs, activation='linear'),\n",
        "  layers.Reshape((Ys, Xs, Cs))\n",
        "])\n",
        "\"\"\"\n",
        "\n",
        "# NEW MODEL\n",
        "model = Sequential([\n",
        "    layers.Rescaling(1./255, input_shape=(input_height, input_width, 1)),\n",
        "    layers.Conv2D(4, 5, padding='same', activation='relu'),\n",
        "    layers.MaxPooling2D(8),\n",
        "    layers.Conv2D(8, 3, padding='same', activation='relu'),\n",
        "    layers.Dropout(0.1),\n",
        "    layers.Flatten(),\n",
        "    layers.Dense(32, activation='relu'),\n",
        "    layers.Dense(8, activation='relu'),\n",
        "    layers.Dense(2, activation='softmax')\n",
        "])\n",
        "\n",
        "model.compile(optimizer='adam', loss=tf.keras.losses.SparseCategoricalCrossentropy(from_logits=True), metrics=['accuracy'])\n",
        "\n",
        "model.summary()\n",
        "\n",
        "model.fit(images, targets, batch_size=batch_size, epochs=30, verbose=1)\n",
        "\n",
        "converter = tf.lite.TFLiteConverter.from_keras_model(model)\n",
        "tflite_model = converter.convert()\n",
        "\n",
        "with open(MODEL_OUTPUT_PATH, 'wb') as f:\n",
        "  f.write(tflite_model)"
      ],
      "metadata": {
        "colab": {
          "base_uri": "https://localhost:8080/",
          "height": 1000
        },
        "id": "a4u1bD56XYxw",
        "outputId": "de22e4ef-f5f0-4423-f913-0c304f0f1083"
      },
      "execution_count": null,
      "outputs": [
        {
          "output_type": "stream",
          "name": "stdout",
          "text": [
            "Loading images and targets from /content/data/victims/images_upsampled\n"
          ]
        },
        {
          "output_type": "display_data",
          "data": {
            "text/plain": [
              "<PIL.Image.Image image mode=L size=160x120 at 0x7FA0FC3CB690>"
            ],
            "image/png": "[encoded data removed]"
          },
          "metadata": {}
        },
        {
          "output_type": "display_data",
          "data": {
            "text/plain": [
              "<PIL.Image.Image image mode=RGB size=32x20 at 0x7FA0FC2E2A50>"
            ],
            "image/png": "[encoded data removed]"
          },
          "metadata": {}
        },
        {
          "output_type": "stream",
          "name": "stdout",
          "text": [
            "Model: \"sequential_32\"\n",
            "_________________________________________________________________\n",
            " Layer (type)                Output Shape              Param #   \n",
            "=================================================================\n",
            " rescaling_34 (Rescaling)    (None, 120, 160, 1)       0         \n",
            "                                                                 \n",
            " conv2d_95 (Conv2D)          (None, 120, 160, 8)       208       \n",
            "                                                                 \n",
            " max_pooling2d_61 (MaxPoolin  (None, 15, 20, 8)        0         \n",
            " g2D)                                                            \n",
            "                                                                 \n",
            " conv2d_96 (Conv2D)          (None, 15, 20, 16)        1168      \n",
            "                                                                 \n",
            " dropout_30 (Dropout)        (None, 15, 20, 16)        0         \n",
            "                                                                 \n",
            " flatten_34 (Flatten)        (None, 4800)              0         \n",
            "                                                                 \n",
            " dense_34 (Dense)            (None, 1280)              6145280   \n",
            "                                                                 \n",
            " reshape_32 (Reshape)        (None, 20, 32, 2)         0         \n",
            "                                                                 \n",
            "=================================================================\n",
            "Total params: 6,146,656\n",
            "Trainable params: 6,146,656\n",
            "Non-trainable params: 0\n",
            "_________________________________________________________________\n",
            "Epoch 1/30\n",
            "417/417 [==============================] - 3s 5ms/step - loss: 0.0072 - accuracy: 0.3488\n",
            "Epoch 2/30\n",
            "417/417 [==============================] - 2s 5ms/step - loss: 0.0062 - accuracy: 0.4114\n",
            "Epoch 3/30\n",
            "417/417 [==============================] - 2s 5ms/step - loss: 0.0047 - accuracy: 0.4712\n",
            "Epoch 4/30\n",
            "417/417 [==============================] - 2s 5ms/step - loss: 0.0035 - accuracy: 0.4890\n",
            "Epoch 5/30\n",
            "417/417 [==============================] - 2s 5ms/step - loss: 0.0029 - accuracy: 0.5095\n",
            "Epoch 6/30\n",
            "417/417 [==============================] - 2s 5ms/step - loss: 0.0025 - accuracy: 0.5096\n",
            "Epoch 7/30\n",
            "417/417 [==============================] - 2s 5ms/step - loss: 0.0022 - accuracy: 0.5137\n",
            "Epoch 8/30\n",
            "417/417 [==============================] - 2s 5ms/step - loss: 0.0021 - accuracy: 0.5090\n",
            "Epoch 9/30\n",
            "417/417 [==============================] - 2s 5ms/step - loss: 0.0019 - accuracy: 0.5121\n",
            "Epoch 10/30\n",
            "417/417 [==============================] - 2s 5ms/step - loss: 0.0018 - accuracy: 0.5049\n",
            "Epoch 11/30\n",
            "417/417 [==============================] - 2s 5ms/step - loss: 0.0016 - accuracy: 0.5109\n",
            "Epoch 12/30\n",
            "417/417 [==============================] - 2s 5ms/step - loss: 0.0015 - accuracy: 0.5071\n",
            "Epoch 13/30\n",
            "417/417 [==============================] - 2s 5ms/step - loss: 0.0014 - accuracy: 0.5095\n",
            "Epoch 14/30\n",
            "417/417 [==============================] - 2s 5ms/step - loss: 0.0014 - accuracy: 0.5031\n",
            "Epoch 15/30\n",
            "417/417 [==============================] - 2s 5ms/step - loss: 0.0013 - accuracy: 0.5055\n",
            "Epoch 16/30\n",
            "417/417 [==============================] - 2s 5ms/step - loss: 0.0013 - accuracy: 0.5029\n",
            "Epoch 17/30\n",
            "417/417 [==============================] - 2s 5ms/step - loss: 0.0012 - accuracy: 0.5080\n",
            "Epoch 18/30\n",
            "417/417 [==============================] - 2s 5ms/step - loss: 0.0012 - accuracy: 0.5031\n",
            "Epoch 19/30\n",
            "417/417 [==============================] - 2s 5ms/step - loss: 0.0012 - accuracy: 0.5008\n",
            "Epoch 20/30\n",
            "417/417 [==============================] - 2s 5ms/step - loss: 0.0011 - accuracy: 0.5036\n",
            "Epoch 21/30\n",
            "417/417 [==============================] - 2s 5ms/step - loss: 0.0011 - accuracy: 0.5039\n",
            "Epoch 22/30\n",
            "417/417 [==============================] - 2s 5ms/step - loss: 0.0011 - accuracy: 0.5094\n",
            "Epoch 23/30\n",
            "417/417 [==============================] - 2s 5ms/step - loss: 0.0011 - accuracy: 0.5027\n",
            "Epoch 24/30\n",
            "417/417 [==============================] - 2s 5ms/step - loss: 0.0011 - accuracy: 0.5072\n",
            "Epoch 25/30\n",
            "417/417 [==============================] - 2s 5ms/step - loss: 0.0010 - accuracy: 0.5068\n",
            "Epoch 26/30\n",
            "417/417 [==============================] - 2s 5ms/step - loss: 9.9282e-04 - accuracy: 0.5054\n",
            "Epoch 27/30\n",
            "417/417 [==============================] - 2s 5ms/step - loss: 9.7938e-04 - accuracy: 0.5052\n",
            "Epoch 28/30\n",
            "417/417 [==============================] - 2s 5ms/step - loss: 9.7115e-04 - accuracy: 0.5067\n",
            "Epoch 29/30\n",
            "417/417 [==============================] - 2s 5ms/step - loss: 9.5133e-04 - accuracy: 0.5068\n",
            "Epoch 30/30\n",
            "417/417 [==============================] - 2s 5ms/step - loss: 9.5739e-04 - accuracy: 0.5053\n"
          ]
        },
        {
          "output_type": "stream",
          "name": "stderr",
          "text": [
            "WARNING:absl:Found untraced functions such as _jit_compiled_convolution_op, _jit_compiled_convolution_op while saving (showing 2 of 2). These functions will not be directly callable after loading.\n"
          ]
        }
      ]
    },
    {
      "cell_type": "markdown",
      "source": [
        "# Test"
      ],
      "metadata": {
        "id": "GMv2KLrNCF8P"
      }
    },
    {
      "cell_type": "code",
      "source": [
        "test_images = []\n",
        "for img in os.listdir(TEST_IMAGES_PATH):\n",
        "  image = cv2.imread(TEST_IMAGES_PATH + \"/\" + img, cv2.IMREAD_GRAYSCALE).astype(np.float32)\n",
        "  image = np.expand_dims(image, axis=0)\n",
        "  image = np.expand_dims(image, axis=3)\n",
        "  test_images.append(image)\n",
        "\n",
        "interpreter = tf.lite.Interpreter(model_path=MODEL_OUTPUT_PATH)\n",
        "interpreter.allocate_tensors()\n",
        "\n",
        "output = interpreter.get_output_details()[0]\n",
        "input = interpreter.get_input_details()[0]\n",
        "\n",
        "for image in test_images:\n",
        "  interpreter.set_tensor(input['index'], image)\n",
        "  interpreter.invoke()\n",
        "  out = interpreter.get_tensor(output['index'])\n",
        "  print(out)"
      ],
      "metadata": {
        "id": "XADY6w1ZCJmv",
        "colab": {
          "base_uri": "https://localhost:8080/",
          "height": 241
        },
        "outputId": "dae1d21d-e622-40ca-b0c6-e25480bc74cc"
      },
      "execution_count": 6,
      "outputs": [
        {
          "output_type": "error",
          "ename": "FileNotFoundError",
          "evalue": "ignored",
          "traceback": [
            "\u001b[0;31m---------------------------------------------------------------------------\u001b[0m",
            "\u001b[0;31mFileNotFoundError\u001b[0m                         Traceback (most recent call last)",
            "\u001b[0;32m<ipython-input-6-8d278fa639d4>\u001b[0m in \u001b[0;36m<module>\u001b[0;34m\u001b[0m\n\u001b[1;32m      1\u001b[0m \u001b[0mtest_images\u001b[0m \u001b[0;34m=\u001b[0m \u001b[0;34m[\u001b[0m\u001b[0;34m]\u001b[0m\u001b[0;34m\u001b[0m\u001b[0;34m\u001b[0m\u001b[0m\n\u001b[0;32m----> 2\u001b[0;31m \u001b[0;32mfor\u001b[0m \u001b[0mimg\u001b[0m \u001b[0;32min\u001b[0m \u001b[0mos\u001b[0m\u001b[0;34m.\u001b[0m\u001b[0mlistdir\u001b[0m\u001b[0;34m(\u001b[0m\u001b[0mTEST_IMAGES_PATH\u001b[0m\u001b[0;34m)\u001b[0m\u001b[0;34m:\u001b[0m\u001b[0;34m\u001b[0m\u001b[0;34m\u001b[0m\u001b[0m\n\u001b[0m\u001b[1;32m      3\u001b[0m   \u001b[0mimage\u001b[0m \u001b[0;34m=\u001b[0m \u001b[0mcv2\u001b[0m\u001b[0;34m.\u001b[0m\u001b[0mimread\u001b[0m\u001b[0;34m(\u001b[0m\u001b[0mTEST_IMAGES_PATH\u001b[0m \u001b[0;34m+\u001b[0m \u001b[0;34m\"/\"\u001b[0m \u001b[0;34m+\u001b[0m \u001b[0mimg\u001b[0m\u001b[0;34m,\u001b[0m \u001b[0mcv2\u001b[0m\u001b[0;34m.\u001b[0m\u001b[0mIMREAD_GRAYSCALE\u001b[0m\u001b[0;34m)\u001b[0m\u001b[0;34m.\u001b[0m\u001b[0mastype\u001b[0m\u001b[0;34m(\u001b[0m\u001b[0mnp\u001b[0m\u001b[0;34m.\u001b[0m\u001b[0mfloat32\u001b[0m\u001b[0;34m)\u001b[0m\u001b[0;34m\u001b[0m\u001b[0;34m\u001b[0m\u001b[0m\n\u001b[1;32m      4\u001b[0m   \u001b[0mimage\u001b[0m \u001b[0;34m=\u001b[0m \u001b[0mnp\u001b[0m\u001b[0;34m.\u001b[0m\u001b[0mexpand_dims\u001b[0m\u001b[0;34m(\u001b[0m\u001b[0mimage\u001b[0m\u001b[0;34m,\u001b[0m \u001b[0maxis\u001b[0m\u001b[0;34m=\u001b[0m\u001b[0;36m0\u001b[0m\u001b[0;34m)\u001b[0m\u001b[0;34m\u001b[0m\u001b[0;34m\u001b[0m\u001b[0m\n\u001b[1;32m      5\u001b[0m   \u001b[0mimage\u001b[0m \u001b[0;34m=\u001b[0m \u001b[0mnp\u001b[0m\u001b[0;34m.\u001b[0m\u001b[0mexpand_dims\u001b[0m\u001b[0;34m(\u001b[0m\u001b[0mimage\u001b[0m\u001b[0;34m,\u001b[0m \u001b[0maxis\u001b[0m\u001b[0;34m=\u001b[0m\u001b[0;36m3\u001b[0m\u001b[0;34m)\u001b[0m\u001b[0;34m\u001b[0m\u001b[0;34m\u001b[0m\u001b[0m\n",
            "\u001b[0;31mFileNotFoundError\u001b[0m: [Errno 2] No such file or directory: '/content/drive/MyDrive/data/silver/test'"
          ]
        }
      ]
    }
  ]
}